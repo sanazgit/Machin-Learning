{
  "nbformat": 4,
  "nbformat_minor": 0,
  "metadata": {
    "colab": {
      "name": "ELM_ProblemFourClasses.ipynb",
      "provenance": [],
      "authorship_tag": "ABX9TyMptGbkojuCJud5bumuBur/",
      "include_colab_link": true
    },
    "kernelspec": {
      "name": "python3",
      "display_name": "Python 3"
    },
    "language_info": {
      "name": "python"
    }
  },
  "cells": [
    {
      "cell_type": "markdown",
      "metadata": {
        "id": "view-in-github",
        "colab_type": "text"
      },
      "source": [
        "<a href=\"https://colab.research.google.com/github/sanazgit/Machin-Learning/blob/main/ELM_ProblemFourClasses.ipynb\" target=\"_parent\"><img src=\"https://colab.research.google.com/assets/colab-badge.svg\" alt=\"Open In Colab\"/></a>"
      ]
    },
    {
      "cell_type": "markdown",
      "metadata": {
        "id": "c1hRmy3pANJu"
      },
      "source": [
        "# **Extreme Learning Machine for Four_Classes problem**\n",
        "\n",
        "---\n",
        "\n"
      ]
    },
    {
      "cell_type": "code",
      "metadata": {
        "colab": {
          "base_uri": "https://localhost:8080/"
        },
        "id": "sQsyBuYIQzBm",
        "outputId": "a4393eb7-b4d9-4c95-b91f-4fb1e85755dd"
      },
      "source": [
        "from google.colab import drive\n",
        "drive.mount('/content/drive')"
      ],
      "execution_count": null,
      "outputs": [
        {
          "output_type": "stream",
          "text": [
            "Mounted at /content/drive\n"
          ],
          "name": "stdout"
        }
      ]
    },
    {
      "cell_type": "code",
      "metadata": {
        "id": "V0ImGweRUdxo"
      },
      "source": [
        "from pylab import *\n",
        "import numpy as np\n",
        "import pandas as pd\n",
        "from numpy import linalg as LA\n",
        "import math\n",
        "from sklearn.preprocessing import LabelEncoder\n",
        "import statistics"
      ],
      "execution_count": null,
      "outputs": []
    },
    {
      "cell_type": "markdown",
      "metadata": {
        "id": "-L_U9TOBAdTA"
      },
      "source": [
        "\n",
        "# **ELM tanh class**\n",
        "\n",
        "\n"
      ]
    },
    {
      "cell_type": "code",
      "metadata": {
        "id": "JNvNerEXUm7D"
      },
      "source": [
        "class ELM_tanh(object):  \n",
        "    \n",
        "    def __init__(self, inputSize, outputSize, hiddenSize):\n",
        "\n",
        "        self.inputSize = inputSize\n",
        "        self.outputSize = outputSize\n",
        "        self.hiddenSize = hiddenSize       \n",
        "        \n",
        "        # Initialize random weight with range [-0.1, 0.5]\n",
        "        self.weight = np.matrix(np.random.uniform(-0.2, 0.5, (self.hiddenSize, self.inputSize)))\n",
        "\n",
        "        # Initialize random bias with range [0, 0.5]\n",
        "        self.bias = np.matrix(np.random.uniform(0, 1, (1, self.hiddenSize)))\n",
        "        \n",
        "        self.H = 0\n",
        "        self.beta = 0\n",
        "\n",
        "    def tanh(self, x):\n",
        "        \"\"\"\n",
        "         tanh or Hyperbolic activation function\n",
        "        \"\"\"\n",
        "        return (np.exp(x)-np.exp(-x))/(np.exp(x)+np.exp(-x))\n",
        "\n",
        "    def predict(self, X):\n",
        "        \"\"\"\n",
        "        Predict the results of the training process using test data\n",
        "        \"\"\"\n",
        "        X_predicted=[]\n",
        "        X = np.matrix(X)\n",
        "        y = np.dot(self.tanh((X * self.weight.T) + self.bias) , self.beta)\n",
        "        y=np.array(y)\n",
        "\n",
        "        for ym in y:\n",
        "          X_predicted.append(ym.argmax())\n",
        "\n",
        "        return X_predicted\n",
        "\n",
        "    def train(self, X, y):\n",
        "        \"\"\"\n",
        "        Extreme Learning Machine training process  \n",
        "        \"\"\"\n",
        "        X = np.matrix(X)\n",
        "\n",
        "        #y = np.matrix(y)\n",
        "        one_hot_labels = np.zeros((X.shape[0], 4))\n",
        "\n",
        "        for i in range(X.shape[0]):\n",
        "          one_hot_labels[i, y[i]] = 1        \n",
        "        \n",
        "        # Calculate hidden layer output matrix (Hinit)\n",
        "        self.H = (X * self.weight.T) + self.bias\n",
        "\n",
        "        # tanh activation function\n",
        "        self.H = self.tanh(self.H)\n",
        "\n",
        "        # Calculate the Moore-Penrose pseudoinverse matriks        \n",
        "        H_moore_penrose = np.linalg.pinv(self.H) \n",
        "\n",
        "        # Calculate the output weight matrix beta\n",
        "        self.beta = np.dot(H_moore_penrose, one_hot_labels)\n",
        "\n",
        "        output= self.H * self.beta"
      ],
      "execution_count": null,
      "outputs": []
    },
    {
      "cell_type": "markdown",
      "metadata": {
        "id": "tRp4_-xuCDeB"
      },
      "source": [
        "* **Read Data**"
      ]
    },
    {
      "cell_type": "code",
      "metadata": {
        "colab": {
          "base_uri": "https://localhost:8080/",
          "height": 414
        },
        "id": "vHxWwzjyUwr4",
        "outputId": "f328829d-d242-4033-ce1c-1f89b0d0b190"
      },
      "source": [
        "# Read train data\n",
        "data= pd.read_excel('/content/drive/MyDrive/Colab Notebooks/ML_Exercises/MultiClass_problem_train.xlsx')\n",
        "data"
      ],
      "execution_count": null,
      "outputs": [
        {
          "output_type": "execute_result",
          "data": {
            "text/html": [
              "<div>\n",
              "<style scoped>\n",
              "    .dataframe tbody tr th:only-of-type {\n",
              "        vertical-align: middle;\n",
              "    }\n",
              "\n",
              "    .dataframe tbody tr th {\n",
              "        vertical-align: top;\n",
              "    }\n",
              "\n",
              "    .dataframe thead th {\n",
              "        text-align: right;\n",
              "    }\n",
              "</style>\n",
              "<table border=\"1\" class=\"dataframe\">\n",
              "  <thead>\n",
              "    <tr style=\"text-align: right;\">\n",
              "      <th></th>\n",
              "      <th>x1</th>\n",
              "      <th>x2</th>\n",
              "      <th>y</th>\n",
              "    </tr>\n",
              "  </thead>\n",
              "  <tbody>\n",
              "    <tr>\n",
              "      <th>0</th>\n",
              "      <td>0.837747</td>\n",
              "      <td>0.676387</td>\n",
              "      <td>1</td>\n",
              "    </tr>\n",
              "    <tr>\n",
              "      <th>1</th>\n",
              "      <td>1.295292</td>\n",
              "      <td>0.793018</td>\n",
              "      <td>1</td>\n",
              "    </tr>\n",
              "    <tr>\n",
              "      <th>2</th>\n",
              "      <td>0.810387</td>\n",
              "      <td>0.858808</td>\n",
              "      <td>1</td>\n",
              "    </tr>\n",
              "    <tr>\n",
              "      <th>3</th>\n",
              "      <td>0.722597</td>\n",
              "      <td>0.942760</td>\n",
              "      <td>1</td>\n",
              "    </tr>\n",
              "    <tr>\n",
              "      <th>4</th>\n",
              "      <td>0.788612</td>\n",
              "      <td>1.213929</td>\n",
              "      <td>1</td>\n",
              "    </tr>\n",
              "    <tr>\n",
              "      <th>...</th>\n",
              "      <td>...</td>\n",
              "      <td>...</td>\n",
              "      <td>...</td>\n",
              "    </tr>\n",
              "    <tr>\n",
              "      <th>3995</th>\n",
              "      <td>1.930744</td>\n",
              "      <td>1.739438</td>\n",
              "      <td>4</td>\n",
              "    </tr>\n",
              "    <tr>\n",
              "      <th>3996</th>\n",
              "      <td>1.648980</td>\n",
              "      <td>2.044412</td>\n",
              "      <td>4</td>\n",
              "    </tr>\n",
              "    <tr>\n",
              "      <th>3997</th>\n",
              "      <td>1.862512</td>\n",
              "      <td>1.549823</td>\n",
              "      <td>4</td>\n",
              "    </tr>\n",
              "    <tr>\n",
              "      <th>3998</th>\n",
              "      <td>1.933452</td>\n",
              "      <td>1.966226</td>\n",
              "      <td>4</td>\n",
              "    </tr>\n",
              "    <tr>\n",
              "      <th>3999</th>\n",
              "      <td>1.616556</td>\n",
              "      <td>1.875223</td>\n",
              "      <td>4</td>\n",
              "    </tr>\n",
              "  </tbody>\n",
              "</table>\n",
              "<p>4000 rows × 3 columns</p>\n",
              "</div>"
            ],
            "text/plain": [
              "            x1        x2  y\n",
              "0     0.837747  0.676387  1\n",
              "1     1.295292  0.793018  1\n",
              "2     0.810387  0.858808  1\n",
              "3     0.722597  0.942760  1\n",
              "4     0.788612  1.213929  1\n",
              "...        ...       ... ..\n",
              "3995  1.930744  1.739438  4\n",
              "3996  1.648980  2.044412  4\n",
              "3997  1.862512  1.549823  4\n",
              "3998  1.933452  1.966226  4\n",
              "3999  1.616556  1.875223  4\n",
              "\n",
              "[4000 rows x 3 columns]"
            ]
          },
          "metadata": {
            "tags": []
          },
          "execution_count": 4
        }
      ]
    },
    {
      "cell_type": "code",
      "metadata": {
        "colab": {
          "base_uri": "https://localhost:8080/"
        },
        "id": "ve8OmJUHfu0W",
        "outputId": "804ec53d-e63a-4990-f388-0978a7f57997"
      },
      "source": [
        "y_train = data['y'].values  #segregating the label vlue from the feature value.\n",
        "X_train = data.drop(['y'],axis=1).values\n",
        "X_train"
      ],
      "execution_count": null,
      "outputs": [
        {
          "output_type": "execute_result",
          "data": {
            "text/plain": [
              "array([[0.83774656, 0.67638741],\n",
              "       [1.29529151, 0.79301754],\n",
              "       [0.81038668, 0.85880804],\n",
              "       ...,\n",
              "       [1.86251242, 1.5498227 ],\n",
              "       [1.93345221, 1.96622559],\n",
              "       [1.61655592, 1.8752228 ]])"
            ]
          },
          "metadata": {
            "tags": []
          },
          "execution_count": 8
        }
      ]
    },
    {
      "cell_type": "code",
      "metadata": {
        "id": "cZPhRsh9f46C"
      },
      "source": [
        "# Read test data\n",
        "data_test= pd.read_excel('/content/drive/MyDrive/Colab Notebooks/ML_Exercises/MultiClass_Problem_Test.xlsx')\n",
        "\n",
        "y_test = data_test['y'].values  #segregating the label vlue from the feature value.\n",
        "X_test = data_test.drop(['y'],axis=1).values"
      ],
      "execution_count": null,
      "outputs": []
    },
    {
      "cell_type": "markdown",
      "metadata": {
        "id": "pEcJLUpPCRFw"
      },
      "source": [
        "* **Make instance of ELM tanh class**"
      ]
    },
    {
      "cell_type": "code",
      "metadata": {
        "id": "ah3NF2ExjORR"
      },
      "source": [
        "elm = ELM_tanh(X_train.shape[1], 4,200 )\n",
        "\n",
        "# Train data\n",
        "labelencoder = LabelEncoder()\n",
        "ytrain= labelencoder.fit_transform(y_train)\n",
        "elm.train(X_train,ytrain)"
      ],
      "execution_count": null,
      "outputs": []
    },
    {
      "cell_type": "markdown",
      "metadata": {
        "id": "79ROpwSvCi97"
      },
      "source": [
        "* **Try the model with test data**"
      ]
    },
    {
      "cell_type": "code",
      "metadata": {
        "id": "jZd_LrnV0opC"
      },
      "source": [
        "ytest= labelencoder.fit_transform(y_test)\n",
        "y_pred= elm.predict(X_test)"
      ],
      "execution_count": null,
      "outputs": []
    },
    {
      "cell_type": "code",
      "metadata": {
        "colab": {
          "base_uri": "https://localhost:8080/"
        },
        "id": "IfovwUT8_sTs",
        "outputId": "64dcfdcc-6a30-4740-8e84-1763997d111f"
      },
      "source": [
        "from sklearn.metrics import accuracy_score\n",
        "print('Accuracy: ', accuracy_score(ytest, y_pred))"
      ],
      "execution_count": null,
      "outputs": [
        {
          "output_type": "stream",
          "text": [
            "Accuracy:  0.95\n"
          ],
          "name": "stdout"
        }
      ]
    },
    {
      "cell_type": "markdown",
      "metadata": {
        "id": "_R-CIZLpDMFA"
      },
      "source": [
        "# **ELM with Gaussian_kernel**"
      ]
    },
    {
      "cell_type": "code",
      "metadata": {
        "id": "SBMBK5hxDJ3K"
      },
      "source": [
        "class ELM_Gaussian_kernel(object):  \n",
        "    \n",
        "    def __init__(self, inputSize, outputSize, hiddenSize):\n",
        "      self.inputSize = inputSize\n",
        "      self.outputSize = outputSize\n",
        "      self.hiddenSize = hiddenSize     \n",
        "      self.H = 0\n",
        "      self.beta = 0\n",
        "\n",
        "    def compute_RBF(self,mat1,mat2,sigma):\n",
        "      \n",
        "      \"\"\"\n",
        "      RBF activation function\n",
        "      \"\"\"\n",
        "      mat1=np.mat(mat1)\n",
        "      mat2= np.mat(mat2)\n",
        "\n",
        "      trnorms1 = np.mat([(v * v.T)[0,0] for v in mat1]).T\n",
        "      trnorms2 = np.mat([(v * v.T)[0,0] for v in mat2]).T\n",
        "\n",
        "      k1 = trnorms1 * np.mat(np.ones((mat2.shape[0], 1), dtype=np.float64)).T\n",
        "\n",
        "      k2 = np.mat(np.ones((mat1.shape[0], 1), dtype=np.float64)) * trnorms2.T\n",
        "\n",
        "      k = k1 + k2\n",
        "\n",
        "      k = k - 2 * (np.dot(mat1,mat2.T))\n",
        "\n",
        "      k = k * - 1./(2 * np.power(sigma, 2))\n",
        "\n",
        "      rbf= np.exp(k)\n",
        "  \n",
        "      return rbf\n",
        "\n",
        "     \n",
        "    def predict(self, X):\n",
        "      \"\"\"\n",
        "      Predict the results of the training process using test data\n",
        "      \"\"\"\n",
        "      dmean=[]\n",
        "      X_predicted=[]\n",
        "\n",
        "      dmax = [[ 0 for x in range(self.hiddenSize)] for y in range(self.hiddenSize)]\n",
        "      for i in range(X.shape[0]):\n",
        "        a=min(X[i])\n",
        "        b= max(X[i])\n",
        "        mue= a + (b - a) * rand(self.hiddenSize,X.shape[1]) # make a Goussian with mue center\n",
        "\n",
        "      for i in range(len(mue)):\n",
        "        for j in range(len(mue)):\n",
        "          if i!=j :\n",
        "            dmax[i][j]= (LA.norm(mue[i]- mue[j]))\n",
        "        dmean.append(statistics.mean(dmax[i]))\n",
        "\n",
        "      dmean= np.array(dmean)\n",
        "      sigma= dmean / math.sqrt(2 * self.hiddenSize)  \n",
        "\n",
        "      H= self.compute_RBF(X,mue,sigma)\n",
        "\n",
        "      y_pred= np.dot(H , self.beta)\n",
        "      y=np.array(y_pred)\n",
        "      \n",
        "      for ym in y:\n",
        "        X_predicted.append(ym.argmax())\n",
        "\n",
        "      return X_predicted\n",
        "\n",
        "    def train(self, X, y):\n",
        "      \"\"\"\n",
        "      Extreme Learning Machine training process  \n",
        "      \"\"\"\n",
        "\n",
        "      one_hot_labels = np.zeros((X.shape[0], 4))\n",
        "\n",
        "      for i in range(X.shape[0]):\n",
        "        one_hot_labels[i, y[i]] = 1   \n",
        "\n",
        "      dmean=[]\n",
        "      dmax = [[ 0 for x in range(self.hiddenSize)] for y in range(self.hiddenSize)]\n",
        "      for i in range(X.shape[0]):\n",
        "        a=min(X[i])\n",
        "        b= max(X[i])\n",
        "        mue= a + (b - a) * randn(self.hiddenSize,X.shape[1]) # make a Goussian with mue center\n",
        "\n",
        "      for i in range(len(mue)):\n",
        "        for j in range(len(mue)):\n",
        "          if i!=j :\n",
        "            dmax[i][j]= (LA.norm(mue[i]- mue[j]))\n",
        "        dmean.append(statistics.mean(dmax[i]))\n",
        "\n",
        "      dmean= np.array(dmean)\n",
        "      sigma= dmean / math.sqrt(2 * self.hiddenSize)   \n",
        "      \n",
        "    \n",
        "      # Calculate hidden layer output matrix (Hinit)\n",
        "      self.H= self.compute_RBF(X,mue,sigma)\n",
        "  \n",
        "      # Calculate the output weight matrix beta\n",
        "      H_moore_penrose = np.linalg.pinv(self.H) \n",
        "      self.beta = np.dot(H_moore_penrose, one_hot_labels)\n",
        "        \n",
        "      output= np.dot(self.H , self.beta)\n"
      ],
      "execution_count": null,
      "outputs": []
    },
    {
      "cell_type": "code",
      "metadata": {
        "id": "3Lf-hYfeD9LL"
      },
      "source": [
        "elmG = ELM_Gaussian_kernel(X_train.shape[1], 4,200 )\n",
        "elmG.train(X_train,ytrain)"
      ],
      "execution_count": null,
      "outputs": []
    },
    {
      "cell_type": "markdown",
      "metadata": {
        "id": "NWx0SsvtE4Xg"
      },
      "source": [
        " * **Try the model with test data**"
      ]
    },
    {
      "cell_type": "code",
      "metadata": {
        "id": "rcdWEDtVDYZQ"
      },
      "source": [
        "y_predG= elmG.predict(X_test)"
      ],
      "execution_count": null,
      "outputs": []
    },
    {
      "cell_type": "code",
      "metadata": {
        "colab": {
          "base_uri": "https://localhost:8080/"
        },
        "id": "dbeucw-PFjbs",
        "outputId": "f2ef2a59-571c-4721-956e-8676b0c91f33"
      },
      "source": [
        "print('Accuracy: ', accuracy_score(ytest, y_predG))"
      ],
      "execution_count": null,
      "outputs": [
        {
          "output_type": "stream",
          "text": [
            "Accuracy:  0.31925\n"
          ],
          "name": "stdout"
        }
      ]
    }
  ]
}